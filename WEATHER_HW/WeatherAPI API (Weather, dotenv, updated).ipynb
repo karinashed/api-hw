{
 "cells": [
  {
   "cell_type": "markdown",
   "metadata": {},
   "source": [
    "# WeatherAPI (WeatherAPI, hiding API keys)\n",
    "\n",
    "Answer the following questions using [WeatherAPI](http://www.weatherapi.com/). It's a smaller assignment than the last weather one, and mostly serves to get you used to creating API urls and using `python-dotenv`.\n",
    "\n",
    "Hold `Shift` and hit `Enter` to run a cell, and use the `+` on the top left to add a new cell to a notebook. Be sure to take advantage of both the documentation and the API Explorer!\n",
    "\n",
    "## 0) Import any libraries you might need\n",
    "\n",
    "- *Tip: We're going to be downloading things from the internet, so we probably need `requests`.*\n",
    "- *Tip: Remember you only need to import requests once!*"
   ]
  },
  {
   "cell_type": "code",
   "execution_count": 3,
   "metadata": {},
   "outputs": [],
   "source": [
    "import requests"
   ]
  },
  {
   "cell_type": "code",
   "execution_count": 2,
   "metadata": {},
   "outputs": [
    {
     "name": "stdout",
     "output_type": "stream",
     "text": [
      "Requirement already satisfied: python-dotenv in /Users/karinashedrofsky/.pyenv/versions/3.10.11/lib/python3.10/site-packages (1.0.0)\n",
      "\n",
      "\u001b[1m[\u001b[0m\u001b[34;49mnotice\u001b[0m\u001b[1;39;49m]\u001b[0m\u001b[39;49m A new release of pip is available: \u001b[0m\u001b[31;49m23.0.1\u001b[0m\u001b[39;49m -> \u001b[0m\u001b[32;49m23.1.2\u001b[0m\n",
      "\u001b[1m[\u001b[0m\u001b[34;49mnotice\u001b[0m\u001b[1;39;49m]\u001b[0m\u001b[39;49m To update, run: \u001b[0m\u001b[32;49mpip install --upgrade pip\u001b[0m\n"
     ]
    }
   ],
   "source": []
  },
  {
   "cell_type": "markdown",
   "metadata": {},
   "source": [
    "## 1) Use the `python-dotenv` package to import your WeatherAPI API key\n",
    "\n",
    "We're going to be posting this code on GitHub, so you'll want to hide your API keys! Take a look at [this video](https://www.youtube.com/watch?v=YdgIWTYQ69A) about how to hide API keys from public view while still using them. It involves creating a separate `.env` file (use either VS Code or create it using Jupyter) that includes your API key, then importing it with [python-dotenv](https://github.com/theskumar/python-dotenv).\n",
    "\n",
    "Save this as a variable called `API_KEY`."
   ]
  },
  {
   "cell_type": "code",
   "execution_count": 4,
   "metadata": {},
   "outputs": [],
   "source": [
    "from dotenv import load_dotenv\n",
    "import os\n",
    "\n",
    "load_dotenv()\n",
    "\n",
    "API_KEY = os.getenv(\"API_KEY\")"
   ]
  },
  {
   "cell_type": "markdown",
   "metadata": {},
   "source": [
    "## 2) Print the URL for the current forecast in New York City\n",
    "\n",
    "This is really just a test to make sure you can still create a URL when the API key is read in as a variable."
   ]
  },
  {
   "cell_type": "code",
   "execution_count": 7,
   "metadata": {},
   "outputs": [],
   "source": [
    "url = f\"http://api.weatherapi.com/v1/current.json?key={API_KEY}&q=New York&aqi=no\"\n",
    "response = requests.get(url)\n",
    "data = response.json()"
   ]
  },
  {
   "cell_type": "markdown",
   "metadata": {
    "collapsed": true
   },
   "source": [
    "## 2) Compare the air quality for NYC and Toronto, Canada\n",
    "\n",
    "Using PM2.5 measurements, compare the air quality of NYC and Toronto, Canada. If NYC has a higher PM2.5 measurement than Toronto, print \"NYC is worse.\" If Toronto's is higher, print \"Toronto is worse.\"\n",
    "\n",
    "- *Hint: This NYC URL is based on the URL for the current weather of NYC, but is a tiny tiny bit different.*\n",
    "- *Hint: You'll need to add an additional option to the URL to include air quality data*\n",
    "- *Hint: You'll (probably) need multiple variables instead of just using `data` twice*"
   ]
  },
  {
   "cell_type": "code",
   "execution_count": 21,
   "metadata": {},
   "outputs": [
    {
     "name": "stdout",
     "output_type": "stream",
     "text": [
      "<Response [200]>\n"
     ]
    }
   ],
   "source": [
    "url = f\"http://api.weatherapi.com/v1/current.json?key={API_KEY}&q=New York&aqi=yes\"\n",
    "response = requests.get(url)\n",
    "print(response)\n",
    "ny_data = response.json()"
   ]
  },
  {
   "cell_type": "code",
   "execution_count": 22,
   "metadata": {},
   "outputs": [
    {
     "name": "stdout",
     "output_type": "stream",
     "text": [
      "<Response [200]>\n"
     ]
    }
   ],
   "source": [
    "url = f\"http://api.weatherapi.com/v1/current.json?key={API_KEY}&q=Toronto&aqi=yes\"\n",
    "response = requests.get(url)\n",
    "print(response)\n",
    "toronto_data = response.json()"
   ]
  },
  {
   "cell_type": "code",
   "execution_count": 23,
   "metadata": {},
   "outputs": [
    {
     "name": "stdout",
     "output_type": "stream",
     "text": [
      "NYC is worse\n"
     ]
    }
   ],
   "source": [
    "ny_aqi = ny_data['current']['air_quality']['pm2_5']\n",
    "toronto_aqi = toronto_data['current']['air_quality']['pm2_5']\n",
    "\n",
    "if ny_aqi > toronto_aqi:\n",
    "    print(\"NYC is worse\")\n",
    "else:\n",
    "    print(\"Toronto is worse\")"
   ]
  },
  {
   "cell_type": "markdown",
   "metadata": {},
   "source": [
    "## 2) Print the time zones for both NYC and Toronto.\n",
    "\n",
    "If they have the same time, print \"it is (the time) in both cities.\" If not, print \"It is (nyc time) in NYC and (Toronto time) in Toronto.\"\n",
    "\n",
    "- *Hint: Both cities should have the same local time. If they don't, what's going on? It's a code issue!*\n",
    "- *Hint: f-strings are unwieldy here, I'd just use the comma version of `print`*"
   ]
  },
  {
   "cell_type": "code",
   "execution_count": 33,
   "metadata": {},
   "outputs": [
    {
     "name": "stdout",
     "output_type": "stream",
     "text": [
      "<Response [200]>\n"
     ]
    }
   ],
   "source": [
    "url = f\"http://api.weatherapi.com/v1/timezone.json?key={API_KEY}&q=New York\"\n",
    "response = requests.get(url)\n",
    "print(response)\n",
    "nytime_data = response.json()"
   ]
  },
  {
   "cell_type": "code",
   "execution_count": 34,
   "metadata": {},
   "outputs": [
    {
     "name": "stdout",
     "output_type": "stream",
     "text": [
      "<Response [200]>\n"
     ]
    }
   ],
   "source": [
    "url = f\"http://api.weatherapi.com/v1/timezone.json?key={API_KEY}&q=Toronto\"\n",
    "response = requests.get(url)\n",
    "print(response)\n",
    "torontotime_data = response.json()"
   ]
  },
  {
   "cell_type": "code",
   "execution_count": 36,
   "metadata": {},
   "outputs": [
    {
     "name": "stdout",
     "output_type": "stream",
     "text": [
      "It is 2023-06-14 12:55 in both cities\n"
     ]
    }
   ],
   "source": [
    "nyc_time = nytime_data['location']['localtime']\n",
    "toronto_time = torontotime_data['location']['localtime']\n",
    "\n",
    "if nyc_time == toronto_time:\n",
    "    print(f\"It is {nyc_time} in both cities\")\n",
    "else:\n",
    "    print(f\"It is {nyc_time} in New York and {toronto_time} in Toronto\")"
   ]
  },
  {
   "cell_type": "markdown",
   "metadata": {},
   "source": [
    "## 3) Speaking of Canada, don't they have a London up there?\n",
    "\n",
    "Print out every city that is called \"London,\" along with the region and country it is in. Your output should look like:\n",
    "\n",
    "```\n",
    "There is a London in United Kingdom\n",
    "There is a London in Canada\n",
    "```\n",
    "\n",
    "Do **not** print out `Londonderry`, since it isn't actually a London.\n",
    "\n",
    "- *Hint: You'll need an `if` for that last part*"
   ]
  },
  {
   "cell_type": "code",
   "execution_count": 37,
   "metadata": {},
   "outputs": [
    {
     "name": "stdout",
     "output_type": "stream",
     "text": [
      "<Response [200]>\n"
     ]
    }
   ],
   "source": [
    "url = f\"http://api.weatherapi.com/v1/search.json?key={API_KEY}&q=London\"\n",
    "\n",
    "response = requests.get(url)\n",
    "print(response)\n",
    "data = response.json()"
   ]
  },
  {
   "cell_type": "code",
   "execution_count": 43,
   "metadata": {},
   "outputs": [
    {
     "name": "stdout",
     "output_type": "stream",
     "text": [
      "There is a London in United Kingdom\n",
      "There is a London in Canada\n"
     ]
    }
   ],
   "source": [
    "for london in data:\n",
    "    if london['name'] == \"London\":\n",
    "        print(f\"There is a London in {london['country']}\")"
   ]
  },
  {
   "cell_type": "code",
   "execution_count": null,
   "metadata": {},
   "outputs": [],
   "source": []
  }
 ],
 "metadata": {
  "kernelspec": {
   "display_name": "Python 3 (ipykernel)",
   "language": "python",
   "name": "python3"
  },
  "language_info": {
   "codemirror_mode": {
    "name": "ipython",
    "version": 3
   },
   "file_extension": ".py",
   "mimetype": "text/x-python",
   "name": "python",
   "nbconvert_exporter": "python",
   "pygments_lexer": "ipython3",
   "version": "3.10.11"
  }
 },
 "nbformat": 4,
 "nbformat_minor": 1
}
